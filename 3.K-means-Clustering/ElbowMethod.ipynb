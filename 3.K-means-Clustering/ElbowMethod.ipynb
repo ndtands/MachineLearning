{
  "nbformat": 4,
  "nbformat_minor": 0,
  "metadata": {
    "colab": {
      "name": "ElbowMethod.ipynb",
      "provenance": [],
      "collapsed_sections": []
    },
    "kernelspec": {
      "name": "python3",
      "display_name": "Python 3"
    }
  },
  "cells": [
    {
      "cell_type": "markdown",
      "metadata": {
        "id": "FquGn-p2ZFq9"
      },
      "source": [
        "Step1: Import Library"
      ]
    },
    {
      "cell_type": "code",
      "metadata": {
        "id": "UpS_ovO9Y18O"
      },
      "source": [
        "from sklearn.cluster import KMeans \n",
        "from sklearn import metrics \n",
        "from scipy.spatial.distance import cdist \n",
        "import numpy as np \n",
        "import matplotlib.pyplot as plt  "
      ],
      "execution_count": 2,
      "outputs": []
    },
    {
      "cell_type": "markdown",
      "metadata": {
        "id": "SGM8HXE7ZJV3"
      },
      "source": [
        "Step2: Creating and Visualizing the data"
      ]
    },
    {
      "cell_type": "code",
      "metadata": {
        "id": "a1OdpiedZS1G",
        "outputId": "c1cd2d89-f9f0-4d95-f1fa-677f557d6b58",
        "colab": {
          "base_uri": "https://localhost:8080/",
          "height": 281
        }
      },
      "source": [
        "#Creating the data \n",
        "x1 = np.array([3, 1, 1, 2, 1, 6, 6, 6, 5, 6, 7, 8, 9, 8, 9, 9, 8]) \n",
        "x2 = np.array([5, 4, 5, 6, 5, 8, 6, 7, 6, 7, 1, 2, 1, 2, 3, 2, 3]) \n",
        "X = np.array(list(zip(x1, x2))).reshape(len(x1), 2) \n",
        "\n",
        "#Visualizing the data \n",
        "plt.plot() \n",
        "plt.xlim([0, 10]) \n",
        "plt.ylim([0, 10]) \n",
        "plt.title('Dataset') \n",
        "plt.scatter(x1, x2) \n",
        "plt.show() "
      ],
      "execution_count": 6,
      "outputs": [
        {
          "output_type": "display_data",
          "data": {
            "image/png": "[encoded data removed]",
            "text/plain": [
              "<Figure size 432x288 with 1 Axes>"
            ]
          },
          "metadata": {
            "tags": [],
            "needs_background": "light"
          }
        }
      ]
    },
    {
      "cell_type": "markdown",
      "metadata": {
        "id": "NMZYDZXKZuwi"
      },
      "source": [
        "Step 3: Building the clustering model and calculating the values of the Distortion and Inertia"
      ]
    },
    {
      "cell_type": "code",
      "metadata": {
        "id": "BUkCJWwcZ2ir"
      },
      "source": [
        "distortions = [] \n",
        "inertias = [] \n",
        "mapping1 = {} \n",
        "mapping2 = {} \n",
        "K = range(1,10) \n",
        "  \n",
        "for k in K: \n",
        "    #Building and fitting the model \n",
        "    kmeanModel = KMeans(n_clusters=k).fit(X) \n",
        "    kmeanModel.fit(X)     \n",
        "    distortions.append(sum(np.min(cdist(X, kmeanModel.cluster_centers_, \n",
        "                      'euclidean'),axis=1)) / X.shape[0]) \n",
        "    inertias.append(kmeanModel.inertia_) \n",
        "  \n",
        "    mapping1[k] = sum(np.min(cdist(X, kmeanModel.cluster_centers_, \n",
        "                 'euclidean'),axis=1)) / X.shape[0] \n",
        "    mapping2[k] = kmeanModel.inertia_ \n",
        "\n"
      ],
      "execution_count": 7,
      "outputs": []
    },
    {
      "cell_type": "markdown",
      "metadata": {
        "id": "2o_WpcYvakSs"
      },
      "source": [
        "Step 4: Tabulating and Visualizing the results"
      ]
    },
    {
      "cell_type": "code",
      "metadata": {
        "id": "cRXQs101aKXV",
        "outputId": "06a0a0fc-2f8e-43fb-dc2e-8057874ff8af",
        "colab": {
          "base_uri": "https://localhost:8080/",
          "height": 890
        }
      },
      "source": [
        "#Using the different values of Distortion\n",
        "for key,val in mapping1.items(): \n",
        "    print(str(key)+' : '+str(val)) \n",
        "plt.plot(K, distortions, 'bx-') \n",
        "plt.xlabel('Values of K') \n",
        "plt.ylabel('Distortion') \n",
        "plt.title('The Elbow Method using Distortion') \n",
        "plt.show()\n",
        " \n",
        "#Using the different values of Inertia\n",
        "for key,val in mapping2.items(): \n",
        "    print(str(key)+' : '+str(val)) \n",
        "plt.plot(K, inertias, 'bx-') \n",
        "plt.xlabel('Values of K') \n",
        "plt.ylabel('Inertia') \n",
        "plt.title('The Elbow Method using Inertia') \n",
        "plt.show() \n"
      ],
      "execution_count": 9,
      "outputs": [
        {
          "output_type": "stream",
          "text": [
            "1 : 3.4577032384495707\n",
            "2 : 1.7687413573405673\n",
            "3 : 0.8819889697423957\n",
            "4 : 0.7587138847606585\n",
            "5 : 0.6627384240083372\n",
            "6 : 0.5920126825722444\n",
            "7 : 0.49495373896312317\n",
            "8 : 0.41652236641410356\n",
            "9 : 0.3311048924975034\n"
          ],
          "name": "stdout"
        },
        {
          "output_type": "display_data",
          "data": {
            "image/png": "[encoded data removed]",
            "text/plain": [
              "<Figure size 432x288 with 1 Axes>"
            ]
          },
          "metadata": {
            "tags": [],
            "needs_background": "light"
          }
        },
        {
          "output_type": "stream",
          "text": [
            "1 : 217.64705882352942\n",
            "2 : 68.42857142857142\n",
            "3 : 16.228571428571428\n",
            "4 : 12.695238095238093\n",
            "5 : 10.016666666666666\n",
            "6 : 7.516666666666667\n",
            "7 : 5.5\n",
            "8 : 3.833333333333334\n",
            "9 : 3.166666666666667\n"
          ],
          "name": "stdout"
        },
        {
          "output_type": "display_data",
          "data": {
            "image/png": "[encoded data removed]",
            "text/plain": [
              "<Figure size 432x288 with 1 Axes>"
            ]
          },
          "metadata": {
            "tags": [],
            "needs_background": "light"
          }
        }
      ]
    }
  ]
}